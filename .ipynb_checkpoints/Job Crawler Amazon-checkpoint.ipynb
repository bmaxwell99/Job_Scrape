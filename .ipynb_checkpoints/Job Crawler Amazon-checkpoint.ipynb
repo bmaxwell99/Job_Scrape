{
 "cells": [
  {
   "cell_type": "code",
   "execution_count": 9,
   "id": "74f3ed32",
   "metadata": {
    "scrolled": true
   },
   "outputs": [
    {
     "name": "stderr",
     "output_type": "stream",
     "text": [
      "C:\\Users\\dark_\\AppData\\Local\\Temp\\ipykernel_9668\\546899524.py:7: DeprecationWarning: executable_path has been deprecated, please pass in a Service object\n",
      "  driver = webdriver.Edge(executable_path=\"/path/to/msedgedriver\")\n",
      "Incompatible release of msedgedriver (version 112.0.1722.39) detected in PATH: C:\\Users\\dark_\\Downloads\\edgedriver_win64\\msedgedriver.exe\n"
     ]
    }
   ],
   "source": [
    "import csv\n",
    "from datetime import datetime\n",
    "from selenium import webdriver\n",
    "from selenium.webdriver.common.by import By\n",
    "\n",
    "# Replace \"/path/to/msedgedriver\" with the path to the Microsoft Edge WebDriver executable file on your computer\n",
    "driver = webdriver.Edge(executable_path=\"/path/to/msedgedriver\")\n",
    "\n",
    "base_url = \"https://www.amazon.jobs/en/search?offset=0&result_limit=10&sort=relevant&job_type%5B%5D=Full-Time&country%5B%5D=USA&state%5B%5D=Washington&state%5B%5D=New%20York&distanceType=Mi&radius=24km&is_manager%5B%5D=0&latitude=&longitude=&loc_group_id=&loc_query=&base_query=\"\n",
    "text_query = \"Solution%20Architect\"\n",
    "end_url = \"&city=&country=&region=&county=&query_options=&\"\n",
    "\n",
    "url = base_url + text_query + end_url\n",
    "\n",
    "# Navigate to the webpage that contains the <span> elements\n",
    "driver.get(url)\n",
    "\n",
    "#gets the child with the job count by the CSS selector\n",
    "job_count_span = driver.find_element(By.CSS_SELECTOR, \"span.sr-only\")\n",
    "\n",
    "job_count = job_count_span.text\n",
    "current_date = datetime.now().strftime(\"%Y-%m-%d\")\n",
    "\n",
    "driver.quit()"
   ]
  },
  {
   "cell_type": "code",
   "execution_count": 11,
   "id": "4530a09a",
   "metadata": {},
   "outputs": [
    {
     "data": {
      "text/plain": [
       "'2023-05-17'"
      ]
     },
     "execution_count": 11,
     "metadata": {},
     "output_type": "execute_result"
    }
   ],
   "source": [
    "current_date"
   ]
  },
  {
   "cell_type": "code",
   "execution_count": 18,
   "id": "2d983c85",
   "metadata": {},
   "outputs": [],
   "source": [
    "# Import writer class from csv module\n",
    "from csv import writer\n",
    "\n",
    "csv_filename = \"postings_by_date.csv\"\n",
    "\n",
    "# List that we want to add as a new row\n",
    "def record(count, query, company):\n",
    "    \n",
    "    current_date = datetime.now().strftime(\"%Y-%m-%d\")\n",
    "    \n",
    "    #create the list that is then appended\n",
    "    List = [current_date, count, query, company]\n",
    " \n",
    "    # Open our existing CSV file in append mode\n",
    "    # Create a file object for this file\n",
    "    with open(csv_filename, 'a') as f_object:\n",
    "\n",
    "        # Pass this file object to csv.writer()\n",
    "        # and get a writer object\n",
    "        writer_object = writer(f_object)\n",
    "\n",
    "        # Pass the list as an argument into\n",
    "        # the writerow()\n",
    "        writer_object.writerow(List)\n",
    "\n",
    "        # Close the file object\n",
    "        f_object.close()"
   ]
  },
  {
   "cell_type": "code",
   "execution_count": 21,
   "id": "9ab57c66",
   "metadata": {},
   "outputs": [
    {
     "name": "stderr",
     "output_type": "stream",
     "text": [
      "C:\\Users\\dark_\\AppData\\Local\\Temp\\ipykernel_9668\\628435155.py:3: DeprecationWarning: executable_path has been deprecated, please pass in a Service object\n",
      "  driver = webdriver.Edge(executable_path=\"/path/to/msedgedriver\")\n",
      "Incompatible release of msedgedriver (version 112.0.1722.39) detected in PATH: C:\\Users\\dark_\\Downloads\\edgedriver_win64\\msedgedriver.exe\n"
     ]
    },
    {
     "name": "stdout",
     "output_type": "stream",
     "text": [
      "5\n"
     ]
    }
   ],
   "source": [
    "AMC_url = 'https://apply.deloitte.com/careers/SearchJobs?sort=relevancy&3_147_3=690396&3_133_3=1233&3_5_3=479'\n",
    "\n",
    "driver = webdriver.Edge(executable_path=\"/path/to/msedgedriver\")\n",
    "\n",
    "# Navigate to the webpage that contains the <span> elements\n",
    "driver.get(AMC_url)\n",
    "\n",
    "#gets the child with the job count by the CSS selector\n",
    "job_count_span = driver.find_element(By.CLASS_NAME, \"jobListTotalRecords\")\n",
    "\n",
    "print(job_count_span.text)"
   ]
  },
  {
   "cell_type": "code",
   "execution_count": 15,
   "id": "fba5b668",
   "metadata": {},
   "outputs": [
    {
     "data": {
      "text/plain": [
       "'https://www.amazon.jobs/en/search?offset=0&result_limit=10&sort=relevant&job_type%5B%5D=Full-Time&country%5B%5D=USA&state%5B%5D=Washington&state%5B%5D=New%20York&distanceType=Mi&radius=24km&is_manager%5B%5D=0&latitude=&longitude=&loc_group_id=&loc_query=&base_query=Solution%20Architect&city=&country=&region=&county=&query_options=&'"
      ]
     },
     "execution_count": 15,
     "metadata": {},
     "output_type": "execute_result"
    }
   ],
   "source": []
  },
  {
   "cell_type": "code",
   "execution_count": 17,
   "id": "e41e0827",
   "metadata": {},
   "outputs": [
    {
     "data": {
      "text/plain": [
       "True"
      ]
     },
     "execution_count": 17,
     "metadata": {},
     "output_type": "execute_result"
    }
   ],
   "source": [
    "url == base_url + query + end_url"
   ]
  }
 ],
 "metadata": {
  "kernelspec": {
   "display_name": "Python 3 (ipykernel)",
   "language": "python",
   "name": "python3"
  },
  "language_info": {
   "codemirror_mode": {
    "name": "ipython",
    "version": 3
   },
   "file_extension": ".py",
   "mimetype": "text/x-python",
   "name": "python",
   "nbconvert_exporter": "python",
   "pygments_lexer": "ipython3",
   "version": "3.9.13"
  }
 },
 "nbformat": 4,
 "nbformat_minor": 5
}
